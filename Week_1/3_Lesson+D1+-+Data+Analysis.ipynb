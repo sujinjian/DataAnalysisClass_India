{
 "cells": [
  {
   "cell_type": "markdown",
   "metadata": {
    "slideshow": {
     "slide_type": "slide"
    }
   },
   "source": [
    "# Lesson D1 &ndash; Data Analysis Introduction\n",
    "\n",
    "\n",
    "In this module, we will talk about some important data types and libraries for doing data analysis using Python.\n",
    "\n",
    "\n",
    "* Review Python built-in data types:\n",
    "    * lists\n",
    "    * tuples\n",
    "    * dictionaries\n",
    "\n",
    "* Collections library:\n",
    "    * defaultdict and counter\n",
    "\n",
    "* Data exchange formats:\n",
    "   * JSON\n",
    "\n"
   ]
  },
  {
   "cell_type": "markdown",
   "metadata": {
    "slideshow": {
     "slide_type": "slide"
    }
   },
   "source": [
    "### Outline for this module:\n",
    "\n",
    "\n",
    "* Data analysis introduction\n",
    "  * Readings\n",
    "    * PDA Ch 1\n",
    "    * PDA Ch 3\n",
    "  * Topics\n",
    "    * data structures\n",
    "        * built-in Python data types: lists, tuples, dictionaries\n",
    "        * Collections library: defaultdict\n",
    "  * Learning goals\n",
    "      * Be able to explain the differences between how lists, tuples, dictionaries, and sets work in Python and in what situations to use each\n",
    "      * Gain understanding and experience with data analysis operations in Python.\n",
    "      * Be able to read and process data in JSON format.\n",
    "      * Become familiar with defaultdict from the Collections library.\n",
    "  * Exercises\n",
    "      * Exercise D1.1: Use defaultdict and collections.Counter to count data\n",
    "      * Exercise D1.2: Read, manipulate, and extract data from a JSON data set\n"
   ]
  },
  {
   "cell_type": "markdown",
   "metadata": {},
   "source": [
    "----------\n",
    "## Lists\n",
    "\n",
    "### In Python, a list is a sequential collection of data\n",
    "\n",
    "* Lists are a built-in data type in Python\n",
    "    * Each value is identified by an index\n",
    "    * Values are called the elements of the list\n",
    "    * Elements can be any data type\n",
    "    * Elements in a list can be of different data types\n",
    "\n",
    "* Items in a list can be accessed using the bracket notation\n"
   ]
  },
  {
   "cell_type": "code",
   "execution_count": null,
   "metadata": {},
   "outputs": [],
   "source": [
    "a = [10, 20, 30]\n",
    "b = [\"unc\", \"duke\", \"ncstate\"]\n",
    "c = [\"luke\", 3.14, [10, 20], 50]\n",
    "print(a)\n",
    "print(b)\n",
    "print(b[0])\n",
    "print(b[1])\n",
    "print(c[2][1])"
   ]
  },
  {
   "cell_type": "markdown",
   "metadata": {},
   "source": [
    "-----------\n",
    "### List slices\n",
    "\n",
    "* For many ordered collection objects (including lists), Python supports 'slicing':\n"
   ]
  },
  {
   "cell_type": "code",
   "execution_count": null,
   "metadata": {},
   "outputs": [],
   "source": [
    "acc_costal = [\"duke\", \"gatech\", \"miami\", \"unc\", \"pitt\", \"uva\", \"vatech\"]\n",
    "print (acc_costal[2:4])\n",
    "print (acc_costal[1:])\n",
    "print (acc_costal[:3])"
   ]
  },
  {
   "cell_type": "markdown",
   "metadata": {},
   "source": [
    "-----------\n",
    "### Lists are mutable\n",
    "\n",
    "* Can change a list as part of an LHS assignment:\n"
   ]
  },
  {
   "cell_type": "code",
   "execution_count": null,
   "metadata": {},
   "outputs": [],
   "source": [
    "acc_costal = [\"duke\", \"gatech\", \"miami\", \"unc\", \"pitt\", \"uva\", \"vatech\"]\n",
    "print (acc_costal)\n",
    "acc_costal[6] = \"vt\"\n",
    "print(acc_costal)\n"
   ]
  },
  {
   "cell_type": "markdown",
   "metadata": {},
   "source": [
    "-----------\n",
    "### Lists methods\n",
    "\n",
    "* Lists are Python objects with many built-in methods:\n",
    "\n",
    "| Method | Parameters | Result | Description\n",
    "| --- | --- | --- | --- |\n",
    "append\t| item\t|mutator\t|Adds a new item to the end of a list\n",
    "insert\t|position, item\t|mutator\t|Inserts a new item at the position given\n",
    "pop\t|none\t|hybrid\t|Removes and returns the last item\n",
    "pop\t|position\t|hybrid\t|Removes and returns the item at position\n",
    "sort\t|none\t|mutator\t|Modifies a list to be sorted\n",
    "reverse\t|none\t|mutator\t|Modifies a list to be in reverse order\n",
    "index\t|item\t|return idx\t|Returns the position of first occurrence of item\n",
    "count\t|item\t|return ct\t|Returns the number of occurrences of item\n",
    "remove\t|item\t|mutator\t|Removes the first occurrence of item\n",
    "\n"
   ]
  },
  {
   "cell_type": "code",
   "execution_count": null,
   "metadata": {},
   "outputs": [],
   "source": [
    "mylist = []\n",
    "mylist.append(\"duke\")\n",
    "mylist.append(\"unc\")\n",
    "mylist.append(\"ncstate\")\n",
    "print(mylist)\n",
    "\n",
    "mylist.insert(1, \"vt\")\n",
    "print(mylist)\n",
    "print(mylist.count(12))\n",
    "\n",
    "print(mylist.index(\"unc\"))\n",
    "print(mylist.count(5))\n",
    "\n",
    "mylist.reverse()\n",
    "print(mylist)\n",
    "\n",
    "mylist.sort()\n",
    "print(mylist)\n",
    "\n",
    "mylist.remove(\"duke\")\n",
    "print(mylist)\n",
    "\n",
    "lastitem = mylist.pop()\n",
    "print(lastitem)\n",
    "print(mylist)\n",
    "\n"
   ]
  },
  {
   "cell_type": "markdown",
   "metadata": {},
   "source": [
    "----------------\n",
    "## Tuples\n",
    "\n",
    "* Tuples are similar to lists, but are immutable\n"
   ]
  },
  {
   "cell_type": "code",
   "execution_count": null,
   "metadata": {},
   "outputs": [],
   "source": [
    "t = ('a', 'b', 'c') #typical creation using ()\n",
    "print (t)\n",
    "print (type(t))\n",
    "\n",
    "a = ['unc', 'vt']\n",
    "print (a)\n",
    "print (type(a))\n",
    "\n",
    "t = tuple(a)  # can also create by passing a list to tuple()\n",
    "print (t)\n",
    "print (type(t))\n"
   ]
  },
  {
   "cell_type": "markdown",
   "metadata": {},
   "source": [
    "### Indexing works like lists\n",
    "\n",
    "* Accessing elements of a tuple works similar to lists:\n"
   ]
  },
  {
   "cell_type": "code",
   "execution_count": null,
   "metadata": {},
   "outputs": [],
   "source": [
    "t = ('a', 'b', 'c', 'd')\n",
    "print(t[1])\n",
    "print(t[1:3])"
   ]
  },
  {
   "cell_type": "markdown",
   "metadata": {},
   "source": [
    "### Tuples are immutable\n",
    "\n",
    "* Meaning that the elements in a tuple cannot be changed\n",
    "* The following code will produce a TypeError:"
   ]
  },
  {
   "cell_type": "code",
   "execution_count": null,
   "metadata": {
    "scrolled": true
   },
   "outputs": [],
   "source": [
    "t = ('a', 'b', 'c', 'd')\n",
    "t[1] = 'x'"
   ]
  },
  {
   "cell_type": "markdown",
   "metadata": {},
   "source": [
    "## Dictionaries\n",
    "\n",
    "* So far, we have talked about sequential collections:  lists, tuples\n",
    "    * Have an order from left to right\n",
    "    * Use integer indices to access values (e.g. a[0], t[2])\n",
    "\n",
    "* Dictionaries are a *mapping* type\n",
    "    * Unordered, associative collection\n",
    "    * Mapping from *keys* to *values*\n",
    "        * Keys can be any immutable type\n",
    "        * Values can be any Python data object (including other collections)\n",
    "    * Dictionaries are mutable\n"
   ]
  },
  {
   "cell_type": "code",
   "execution_count": null,
   "metadata": {},
   "outputs": [],
   "source": [
    "# in this example, we will map keys that are strings to values that are different strings\n",
    "\n",
    "e2s = {}   # create an empty dictionary using {}\n",
    "e2s['one'] = 'uno'   # associate the key 'one' with the value 'uno'\n",
    "e2s['two'] = 'dos'\n",
    "e2s['three'] = 'tres'\n",
    "print (e2s)\n",
    "print (e2s['two'])\n"
   ]
  },
  {
   "cell_type": "markdown",
   "metadata": {},
   "source": [
    "----------\n",
    "### Dictionary operations\n",
    "\n",
    "* We can access items in a dictionary and perform operations to\n",
    "    * change the values associated with a key\n",
    "    * delete elements in the dictionary\n",
    "    \n",
    "* Keep in mind that the key-value pairs in a dictionary are *unordered*\n",
    "    * Even though when we print the dictionary, they are output in an order\n",
    "    * There is no order to the key-value pairs in the dictionary\n",
    "    "
   ]
  },
  {
   "cell_type": "code",
   "execution_count": null,
   "metadata": {},
   "outputs": [],
   "source": [
    "inv = {'apples': 430, 'bananas':312,\n",
    "       'oranges': 523, 'pears':217}\n",
    "print (inv)\n",
    "inv['pears'] = 0\n",
    "inv['bananas'] += 200\n",
    "del inv['oranges']\n",
    "print (inv)\n",
    "print (len(inv))\n"
   ]
  },
  {
   "cell_type": "markdown",
   "metadata": {},
   "source": [
    "### Dictionary methods\n",
    "\n",
    "* There are a number of different methods we can use to perform operations with dictionaries:\n",
    "\n",
    "\n",
    "|Method\t|Parameters\t|Description\n",
    "| --- | --- | --- |\n",
    "|keys\t|none\t|Returns a view of the keys in the dict\n",
    "|values\t|none\t|Returns a view of the values in the dict\n",
    "|items\t|none\t|Returns a view of the key-value pairs in the dict\n",
    "|get\t|key\t|Returns the value associated with the key;  if the key does not exist, returns None\n",
    "|get\t|key,alt\t|Returns the value associated with the key;  if the key does not exist, returns alt\n",
    "\n",
    "\n",
    "\n"
   ]
  },
  {
   "cell_type": "code",
   "execution_count": null,
   "metadata": {},
   "outputs": [],
   "source": [
    "inv = {'apples': 430, 'bananas':312, 'oranges': 523, 'pears':217}\n",
    "\n",
    "# keys() returns a list of the keys in the dict\n",
    "print (inv.keys())\n",
    "\n",
    "for akey in inv.keys():\n",
    "    print (\"The key\", akey, \"maps to value\", inv[akey])"
   ]
  },
  {
   "cell_type": "code",
   "execution_count": null,
   "metadata": {},
   "outputs": [],
   "source": [
    "inv = {'apples': 430, 'bananas':312, 'oranges': 523, 'pears':217}\n",
    "\n",
    "# items() returns key-value pairs in the dict as a list of tuples\n",
    "print(inv.items())\n",
    "\n",
    "for (k,v) in inv.items():\n",
    "    print (k,v)"
   ]
  },
  {
   "cell_type": "code",
   "execution_count": null,
   "metadata": {},
   "outputs": [],
   "source": [
    "inv = {'apples': 430, 'bananas':312, 'oranges': 523, 'pears':217}\n",
    "\n",
    "# for..in can be used to iterate over the keys in a dict\n",
    "for k in inv:\n",
    "    print (k, inv[k])"
   ]
  },
  {
   "cell_type": "markdown",
   "metadata": {},
   "source": [
    "-----------\n",
    "### A very big issue to know about dictionaries\n",
    "\n",
    "* Using the bracket notation to try to access a key that does not exist in a dict will generate a KeyError\n"
   ]
  },
  {
   "cell_type": "code",
   "execution_count": null,
   "metadata": {},
   "outputs": [],
   "source": [
    "inv = {'apples': 430, 'bananas':312, 'oranges': 523, 'pears':217}\n",
    "print (inv['apples'])\n",
    "print (inv['kiwi'])      # error!\n"
   ]
  },
  {
   "cell_type": "markdown",
   "metadata": {},
   "source": [
    "\n",
    "### Instead, use .get() or .setdefault()\n",
    "\n",
    "* .get(key,[default])\n",
    "    * Returns the value for the key if the key is in the dict.  Otherwise, returns default (or None if default is not specified).\n",
    "\n",
    "\n",
    "|Method |Parameters |Description\n",
    "| --- | --- | --- |\n",
    "|get   |key   |Returns the value associated with the key; if the key does not exist in the dict, returns None\n",
    "|get |key, default  |Returns the value associated with the key; if the key does not exist in the dict, returns default\n",
    "|setdefault |key, default  |Returns the value associated with the key; if not, inserts the key with value of default and returns default"
   ]
  },
  {
   "cell_type": "code",
   "execution_count": null,
   "metadata": {},
   "outputs": [],
   "source": [
    "inv = {'apples': 430, 'bananas':312, 'oranges': 523, 'pears':217}\n",
    "print (inv.get('kiwi'))\n",
    "print (inv.get('kiwi',0))\n",
    "print (inv.get('kiwi',9999))\n",
    "print (inv)\n"
   ]
  },
  {
   "cell_type": "markdown",
   "metadata": {},
   "source": [
    "#### .get() versus .setdefault()"
   ]
  },
  {
   "cell_type": "code",
   "execution_count": null,
   "metadata": {},
   "outputs": [],
   "source": [
    "inv = {'apples': 430, 'bananas':312, 'oranges': 523, 'pears':217}\n",
    "print (inv.setdefault('kiwi',0))\n",
    "print (inv)"
   ]
  },
  {
   "cell_type": "markdown",
   "metadata": {},
   "source": [
    "\n",
    "## Defaultdict  (part of collections in the Python standard library)\n",
    "\n",
    "* defaultdict is like a dict, expect it will automatically initialize new keys the first time they are seen\n",
    "* defaultdict uses a *default_factory* that must be specified (e.g., often a datatype like int or list)\n",
    "\n",
    "To use defaultdict, we must first import it from the collections library:"
   ]
  },
  {
   "cell_type": "code",
   "execution_count": null,
   "metadata": {},
   "outputs": [],
   "source": [
    "from collections import defaultdict\n",
    "data = [('apples', 430), ('bananas',312), ('oranges', 523), ('pears', 217)]\n",
    "inv = defaultdict(int)   # int is the default_factory; this initializes new values to be an integer 0\n",
    "for k,v in data:\n",
    "    inv[k] = v\n",
    "print (inv)\n",
    "inv['grape']\n",
    "inv['kiwi'] += 1\n",
    "print (inv)\n"
   ]
  },
  {
   "cell_type": "markdown",
   "metadata": {},
   "source": [
    "\n",
    "## Counter  (part of collections in the Python standard library)\n",
    "\n",
    "* Counter is a dict subclass for counting objects.\n",
    "* Elements are stored as keys and their counts are stored as values\n",
    "\n",
    "To use counter, we must first import it from the collections library:"
   ]
  },
  {
   "cell_type": "code",
   "execution_count": null,
   "metadata": {},
   "outputs": [],
   "source": [
    "from collections import Counter\n",
    "t = ['a','a','b','a','c','b','a','d']\n",
    "c = Counter(t)\n",
    "print(c)"
   ]
  },
  {
   "cell_type": "markdown",
   "metadata": {},
   "source": [
    "\n",
    "### Counter has useful functions such as .most_common()\n",
    "\n",
    "* Remember that Counters are not lists\n",
    "* To access elements, we must use Counter methods:\n"
   ]
  },
  {
   "cell_type": "code",
   "execution_count": null,
   "metadata": {},
   "outputs": [],
   "source": [
    "from collections import Counter\n",
    "t = ['a','a','b','a','c','b','a','d']\n",
    "c = Counter(t)\n",
    "top2 = c.most_common(2)  # will return two most common key-value pairs as a list of tuples\n",
    "print (top2)"
   ]
  },
  {
   "cell_type": "markdown",
   "metadata": {},
   "source": [
    "------------\n",
    "### Exercise D1.1 &ndash; Counting\n",
    "\n",
    "* Assume you have the following data about course numbers (e.g., 760, 509) and instructor names (e.g., Capra, Arguello) in a text file called course_data.txt:\n",
    "\n",
    "```\n",
    "760 Capra\n",
    "509 Arguello\n",
    "512 Haas\n",
    "523 Capra\n",
    "884 Kelly\n",
    "509 Kelly\n",
    "523 Haas\n",
    "523 Mostafa\n",
    "509 Losee\n",
    "```\n",
    "\n",
    "Write a Python program to read the data and do the following:\n",
    "\n",
    "\n",
    "1. Create a dict in which the keys are the course numbers and the value associated with each key is a list of the names of the instructors who have taught the class (duplicate names in the list are okay).\n",
    "\n",
    "2. Create a Collection Counter object and use it to print out which two courses have been taught the most times.\n",
    "\n",
    "You can assume that you start with the following code:\n",
    "\n",
    "```\n",
    "fp = open(\"course_data.txt\",\"r\")\n",
    "\n",
    "mydict = {}\n",
    "\n",
    "for line in fp:\n",
    "    line = line.strip()\n",
    "    (cnum, instr) = line.split()\n",
    "    \n",
    "    # add your code here\n",
    "\n",
    "print (mydict)\n",
    "\n",
    "```\n",
    "\n",
    "\n"
   ]
  },
  {
   "cell_type": "markdown",
   "metadata": {},
   "source": [
    "-------\n",
    "## JSON -- JavaScript Object Notation\n",
    "\n",
    "* JSON is a textual representation of a JavaScript data object\n",
    "* JSON is a very common lightweigh data interchange format\n",
    "* Even though it originated with JavaScript, it is used across many different languages\n",
    "* There are a *lot* of datasets available in JSON format\n",
    "* Python has support for JSON using the standard library\n",
    "\n",
    "Below is an example JSON data:\n",
    "\n",
    "* Notice that JSON uses {} for key-value pairs (like Python dicts)\n",
    "* And [] for sequences of items (like Python lists)"
   ]
  },
  {
   "cell_type": "code",
   "execution_count": null,
   "metadata": {},
   "outputs": [],
   "source": [
    "# store JSON data into a Python string s using a triple quoted string\n",
    "s = \"\"\"{\n",
    "    \"firstName\": \"John\",\n",
    "    \"lastName\": \"Smith\",\n",
    "    \"age\": 25,\n",
    "    \"address\": {\n",
    "        \"streetAddress\": \"21 2nd Street\",\n",
    "        \"city\": \"New York\",\n",
    "        \"state\": \"NY\",\n",
    "        \"postalCode\": 10021\n",
    "    },\n",
    "    \"phoneNumbers\": [\n",
    "        {\n",
    "            \"type\": \"home\",\n",
    "            \"number\": \"212 555-1234\"\n",
    "        },\n",
    "        {\n",
    "            \"type\": \"fax\",\n",
    "            \"number\": \"646 555-4567\"\n",
    "        }\n",
    "    ]\n",
    "}\"\"\""
   ]
  },
  {
   "cell_type": "code",
   "execution_count": null,
   "metadata": {},
   "outputs": [],
   "source": [
    "print(s)"
   ]
  },
  {
   "cell_type": "markdown",
   "metadata": {},
   "source": [
    "* In the case above, j is a dictionary with key-value pairs.\n",
    "* The value for the key 'address' is another dictionary with keys streetAddress, city, state, and postalCode\n",
    "* The value for the key 'phoneNumbers' is a list with two items\n",
    "   * Each of the two items is a dictionary with two keys: type and number\n",
    "\n",
    "\n",
    "### Reading JSON data from a file\n",
    "\n",
    "* Often, JSON data will be stored in a text file and we will read it into a string using open() and read():"
   ]
  },
  {
   "cell_type": "code",
   "execution_count": null,
   "metadata": {},
   "outputs": [],
   "source": [
    "fp = open(\"ex1.json\",\"r\")\n",
    "s = fp.read()"
   ]
  },
  {
   "cell_type": "markdown",
   "metadata": {},
   "source": [
    "#### Load a JSON text string into a Python data object\n",
    "\n",
    "* Once we have JSON data in a text string, we can use the json library to load it into a Python data object\n",
    "* To do this, we must first import json:"
   ]
  },
  {
   "cell_type": "code",
   "execution_count": null,
   "metadata": {},
   "outputs": [],
   "source": [
    "import json\n",
    "\n",
    "#fp = open(\"ex1.json\", \"r\")\n",
    "#s = fp.read()\n",
    "\n",
    "j = json.loads(s)\n",
    "\n",
    "print (j)\n",
    "print ()\n",
    "\n",
    "print (\"first = \", j['firstName'])\n",
    "print (\"last = \", j['lastName'])\n",
    "print (\"age = \", j['age'])\n",
    "print (\"city = \", j['address']['city'])\n",
    "for phnum in j['phoneNumbers']:\n",
    "    print (phnum['type'], \" = \",\n",
    "           phnum['number'])\n"
   ]
  },
  {
   "cell_type": "markdown",
   "metadata": {},
   "source": [
    "* After we have used .loads(), the Python data object can be used like any other complex data structure.\n"
   ]
  },
  {
   "cell_type": "markdown",
   "metadata": {},
   "source": [
    "------------\n",
    "### Exercise D1.2 &ndash; JSON\n",
    "\n",
    "* Assume you have the following JSON data in a text file called json.txt:\n",
    "\n",
    "```\n",
    "{\n",
    "    \"firstName\": \"John\",\n",
    "    \"lastName\": \"Smith\",\n",
    "    \"age\": 25,\n",
    "    \"address\": {\n",
    "        \"streetAddress\": \"21 2nd Street\",\n",
    "        \"city\": \"New York\",\n",
    "        \"state\": \"NY\",\n",
    "        \"postalCode\": 10021\n",
    "    },\n",
    "    \"phoneNumbers\": [\n",
    "        {\n",
    "            \"type\": \"home\",\n",
    "            \"number\": \"212 555-1234\"\n",
    "        },\n",
    "        {\n",
    "            \"type\": \"fax\",\n",
    "            \"number\": \"646 555-4567\"\n",
    "        }\n",
    "    ]\n",
    "}\n",
    "```\n",
    "\n",
    "Write a Python program to read the data into a Python data object.  Then access and print the following values from the data object:\n",
    "\n",
    "\n",
    "1. 'Smith'\n",
    "\n",
    "2. 'NY'\n",
    "\n",
    "3. '212 555-1234'\n",
    "\n",
    "4. 'fax'\n",
    "\n",
    "\n"
   ]
  },
  {
   "cell_type": "code",
   "execution_count": null,
   "metadata": {},
   "outputs": [],
   "source": []
  }
 ],
 "metadata": {
  "kernelspec": {
   "display_name": "Python 3 (ipykernel)",
   "language": "python",
   "name": "python3"
  },
  "language_info": {
   "codemirror_mode": {
    "name": "ipython",
    "version": 3
   },
   "file_extension": ".py",
   "mimetype": "text/x-python",
   "name": "python",
   "nbconvert_exporter": "python",
   "pygments_lexer": "ipython3",
   "version": "3.9.7"
  }
 },
 "nbformat": 4,
 "nbformat_minor": 2
}
